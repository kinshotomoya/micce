{
 "metadata": {
  "language_info": {
   "codemirror_mode": {
    "name": "ipython",
    "version": 3
   },
   "file_extension": ".py",
   "mimetype": "text/x-python",
   "name": "python",
   "nbconvert_exporter": "python",
   "pygments_lexer": "ipython3",
   "version": "3.6.4"
  },
  "orig_nbformat": 2,
  "kernelspec": {
   "name": "python3",
   "display_name": "Python 3.6.4 64-bit ('3.6.4')",
   "metadata": {
    "interpreter": {
     "hash": "6376e1a2ad1616dd91d0d404c736ebd73ccf054c156d89b63251699af346101d"
    }
   }
  }
 },
 "nbformat": 4,
 "nbformat_minor": 2,
 "cells": [
  {
   "source": [
    "行列間の差の2乗を計算\n",
    "一致しているほど計算結果が小さくなる（最小0）\n",
    "\n",
    "spot1:\n",
    "    誰と：家族\n",
    "    テーマ：買い物\n",
    "    ホテル：できるだけ安い・日本語通じる\n",
    "\n",
    "=> [[0,1,0,0],[0,0,1,0],[1,0,0,1]]\n",
    "\n",
    "spot2:\n",
    "    誰と：ひとり・家族・友達・カップルパートナー\n",
    "    テーマ：グルメ・美容・買い物\n",
    "    ホテル：できるだけ安い・中心地にある・日本語通じる\n",
    "\n",
    "=> [[1,1,1,1],[1,1,1,0],[1,1,0,1]]\n",
    "\n",
    "search_condition:\n",
    "    誰と：カップルパートナー\n",
    "    テーマ：買い物\n",
    "    ホテル：日本語通じる\n",
    "\n",
    "=> [[0,0,0,1],[0,0,1,0],[0,0,0,1]]\n"
   ],
   "cell_type": "code",
   "metadata": {},
   "execution_count": 42,
   "outputs": [
    {
     "output_type": "error",
     "ename": "SyntaxError",
     "evalue": "invalid character in identifier (<ipython-input-42-be495d5fec97>, line 2)",
     "traceback": [
      "\u001b[0;36m  File \u001b[0;32m\"<ipython-input-42-be495d5fec97>\"\u001b[0;36m, line \u001b[0;32m2\u001b[0m\n\u001b[0;31m    一致しているほど計算結果が小さくなる（最小0）\u001b[0m\n\u001b[0m                          ^\u001b[0m\n\u001b[0;31mSyntaxError\u001b[0m\u001b[0;31m:\u001b[0m invalid character in identifier\n"
     ]
    }
   ]
  },
  {
   "cell_type": "code",
   "execution_count": 43,
   "metadata": {},
   "outputs": [],
   "source": [
    "import numpy as np\n"
   ]
  },
  {
   "cell_type": "code",
   "execution_count": 44,
   "metadata": {},
   "outputs": [
    {
     "output_type": "execute_result",
     "data": {
      "text/plain": [
       "array([[0, 1, 0, 0],\n",
       "       [0, 0, 1, 0],\n",
       "       [1, 0, 0, 1]])"
      ]
     },
     "metadata": {},
     "execution_count": 44
    }
   ],
   "source": [
    "spot1 = np.array([[0,1,0,0],[0,0,1,0],[1,0,0,1]])\n",
    "spot1"
   ]
  },
  {
   "source": [
    "search_condition = np.array([[0,0,0,1],[0,0,1,0],[0,0,0,1]])\n",
    "search_condition"
   ],
   "cell_type": "code",
   "metadata": {},
   "execution_count": 45,
   "outputs": [
    {
     "output_type": "execute_result",
     "data": {
      "text/plain": [
       "array([[0, 0, 0, 1],\n",
       "       [0, 0, 1, 0],\n",
       "       [1, 0, 0, 1]])"
      ]
     },
     "metadata": {},
     "execution_count": 45
    }
   ]
  },
  {
   "cell_type": "code",
   "execution_count": 46,
   "metadata": {},
   "outputs": [
    {
     "output_type": "execute_result",
     "data": {
      "text/plain": [
       "array([[1, 1, 1, 1],\n",
       "       [1, 1, 1, 0],\n",
       "       [1, 1, 0, 1]])"
      ]
     },
     "metadata": {},
     "execution_count": 46
    }
   ],
   "source": [
    "spot2 = np.array([[1,1,1,1],[1,1,1,0],[1,1,0,1]])\n",
    "spot2"
   ]
  },
  {
   "cell_type": "code",
   "execution_count": 56,
   "metadata": {},
   "outputs": [
    {
     "output_type": "stream",
     "name": "stdout",
     "text": [
      "spot1と検索条件の類似度：2\nspot2と検索条件の類似度：6\nspot1の方が検索条件に近い\n"
     ]
    }
   ],
   "source": [
    "def sim(X, Y):\n",
    "    multiple = (X - Y)**2\n",
    "    sum = multiple.sum()\n",
    "    return sum\n",
    "\n",
    "\n",
    "result1 = sim(spot1, search_condition)\n",
    "result2 = sim(spot2, search_condition)\n",
    "print(f\"spot1と検索条件の類似度：{result1}\")\n",
    "print(f\"spot2と検索条件の類似度：{result2}\")\n",
    "\n",
    "print(\"spot1の方が検索条件に近い\")\n"
   ]
  },
  {
   "cell_type": "code",
   "execution_count": null,
   "metadata": {},
   "outputs": [],
   "source": []
  },
  {
   "cell_type": "code",
   "execution_count": null,
   "metadata": {},
   "outputs": [],
   "source": []
  }
 ]
}